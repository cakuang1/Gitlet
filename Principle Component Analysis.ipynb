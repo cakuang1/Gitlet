{
 "cells": [
  {
   "cell_type": "markdown",
   "id": "c5101ded",
   "metadata": {},
   "source": [
    "# Principle Component Analysis (PCA)"
   ]
  },
  {
   "cell_type": "markdown",
   "id": "ddf1f91d",
   "metadata": {},
   "source": [
    "**Motivation**\n",
    "\n",
    "Dimensionality reduction is a fundamental concept in machine learning, aiming to exploit relationships among points in high-dimensional space in order to construct some low-dimensional summaries. By doing so, this process eliminates redundancies, while preserving interesting characteristics of the data.In essence, we are taking datasets with a large number of columns and 'reducing' the number of columns in order to visualize and develop inferences around our data. Lets take a general overview of how to work with PCA with a dataset."
   ]
  },
  {
   "cell_type": "code",
   "execution_count": 49,
   "id": "05ecbed8",
   "metadata": {},
   "outputs": [],
   "source": [
    "import numpy as np\n",
    "import pandas as pd\n",
    "import random as rm\n",
    "import matplotlib.pyplot as plt\n",
    "from sklearn.linear_model import LinearRegression\n",
    "from sklearn import preprocessing\n",
    "import seaborn as sns"
   ]
  },
  {
   "cell_type": "markdown",
   "id": "cc5bfc98",
   "metadata": {},
   "source": [
    "# General PCA method"
   ]
  },
  {
   "cell_type": "code",
   "execution_count": 50,
   "id": "dc8437bc",
   "metadata": {},
   "outputs": [
    {
     "data": {
      "text/html": [
       "<div>\n",
       "<style scoped>\n",
       "    .dataframe tbody tr th:only-of-type {\n",
       "        vertical-align: middle;\n",
       "    }\n",
       "\n",
       "    .dataframe tbody tr th {\n",
       "        vertical-align: top;\n",
       "    }\n",
       "\n",
       "    .dataframe thead th {\n",
       "        text-align: right;\n",
       "    }\n",
       "</style>\n",
       "<table border=\"1\" class=\"dataframe\">\n",
       "  <thead>\n",
       "    <tr style=\"text-align: right;\">\n",
       "      <th></th>\n",
       "      <th>Country/Region</th>\n",
       "      <th>Confirmed</th>\n",
       "      <th>Deaths</th>\n",
       "      <th>Recovered</th>\n",
       "      <th>Active</th>\n",
       "      <th>New cases</th>\n",
       "      <th>New deaths</th>\n",
       "      <th>New recovered</th>\n",
       "      <th>Deaths / 100 Cases</th>\n",
       "      <th>Recovered / 100 Cases</th>\n",
       "      <th>Deaths / 100 Recovered</th>\n",
       "      <th>Confirmed last week</th>\n",
       "      <th>1 week change</th>\n",
       "      <th>1 week % increase</th>\n",
       "      <th>WHO Region</th>\n",
       "    </tr>\n",
       "  </thead>\n",
       "  <tbody>\n",
       "    <tr>\n",
       "      <th>0</th>\n",
       "      <td>Afghanistan</td>\n",
       "      <td>36263</td>\n",
       "      <td>1269</td>\n",
       "      <td>25198</td>\n",
       "      <td>9796</td>\n",
       "      <td>106</td>\n",
       "      <td>10</td>\n",
       "      <td>18</td>\n",
       "      <td>3.50</td>\n",
       "      <td>69.49</td>\n",
       "      <td>5.04</td>\n",
       "      <td>35526</td>\n",
       "      <td>737</td>\n",
       "      <td>2.07</td>\n",
       "      <td>Eastern Mediterranean</td>\n",
       "    </tr>\n",
       "    <tr>\n",
       "      <th>1</th>\n",
       "      <td>Albania</td>\n",
       "      <td>4880</td>\n",
       "      <td>144</td>\n",
       "      <td>2745</td>\n",
       "      <td>1991</td>\n",
       "      <td>117</td>\n",
       "      <td>6</td>\n",
       "      <td>63</td>\n",
       "      <td>2.95</td>\n",
       "      <td>56.25</td>\n",
       "      <td>5.25</td>\n",
       "      <td>4171</td>\n",
       "      <td>709</td>\n",
       "      <td>17.00</td>\n",
       "      <td>Europe</td>\n",
       "    </tr>\n",
       "    <tr>\n",
       "      <th>2</th>\n",
       "      <td>Algeria</td>\n",
       "      <td>27973</td>\n",
       "      <td>1163</td>\n",
       "      <td>18837</td>\n",
       "      <td>7973</td>\n",
       "      <td>616</td>\n",
       "      <td>8</td>\n",
       "      <td>749</td>\n",
       "      <td>4.16</td>\n",
       "      <td>67.34</td>\n",
       "      <td>6.17</td>\n",
       "      <td>23691</td>\n",
       "      <td>4282</td>\n",
       "      <td>18.07</td>\n",
       "      <td>Africa</td>\n",
       "    </tr>\n",
       "    <tr>\n",
       "      <th>3</th>\n",
       "      <td>Andorra</td>\n",
       "      <td>907</td>\n",
       "      <td>52</td>\n",
       "      <td>803</td>\n",
       "      <td>52</td>\n",
       "      <td>10</td>\n",
       "      <td>0</td>\n",
       "      <td>0</td>\n",
       "      <td>5.73</td>\n",
       "      <td>88.53</td>\n",
       "      <td>6.48</td>\n",
       "      <td>884</td>\n",
       "      <td>23</td>\n",
       "      <td>2.60</td>\n",
       "      <td>Europe</td>\n",
       "    </tr>\n",
       "    <tr>\n",
       "      <th>4</th>\n",
       "      <td>Angola</td>\n",
       "      <td>950</td>\n",
       "      <td>41</td>\n",
       "      <td>242</td>\n",
       "      <td>667</td>\n",
       "      <td>18</td>\n",
       "      <td>1</td>\n",
       "      <td>0</td>\n",
       "      <td>4.32</td>\n",
       "      <td>25.47</td>\n",
       "      <td>16.94</td>\n",
       "      <td>749</td>\n",
       "      <td>201</td>\n",
       "      <td>26.84</td>\n",
       "      <td>Africa</td>\n",
       "    </tr>\n",
       "    <tr>\n",
       "      <th>...</th>\n",
       "      <td>...</td>\n",
       "      <td>...</td>\n",
       "      <td>...</td>\n",
       "      <td>...</td>\n",
       "      <td>...</td>\n",
       "      <td>...</td>\n",
       "      <td>...</td>\n",
       "      <td>...</td>\n",
       "      <td>...</td>\n",
       "      <td>...</td>\n",
       "      <td>...</td>\n",
       "      <td>...</td>\n",
       "      <td>...</td>\n",
       "      <td>...</td>\n",
       "      <td>...</td>\n",
       "    </tr>\n",
       "    <tr>\n",
       "      <th>182</th>\n",
       "      <td>West Bank and Gaza</td>\n",
       "      <td>10621</td>\n",
       "      <td>78</td>\n",
       "      <td>3752</td>\n",
       "      <td>6791</td>\n",
       "      <td>152</td>\n",
       "      <td>2</td>\n",
       "      <td>0</td>\n",
       "      <td>0.73</td>\n",
       "      <td>35.33</td>\n",
       "      <td>2.08</td>\n",
       "      <td>8916</td>\n",
       "      <td>1705</td>\n",
       "      <td>19.12</td>\n",
       "      <td>Eastern Mediterranean</td>\n",
       "    </tr>\n",
       "    <tr>\n",
       "      <th>183</th>\n",
       "      <td>Western Sahara</td>\n",
       "      <td>10</td>\n",
       "      <td>1</td>\n",
       "      <td>8</td>\n",
       "      <td>1</td>\n",
       "      <td>0</td>\n",
       "      <td>0</td>\n",
       "      <td>0</td>\n",
       "      <td>10.00</td>\n",
       "      <td>80.00</td>\n",
       "      <td>12.50</td>\n",
       "      <td>10</td>\n",
       "      <td>0</td>\n",
       "      <td>0.00</td>\n",
       "      <td>Africa</td>\n",
       "    </tr>\n",
       "    <tr>\n",
       "      <th>184</th>\n",
       "      <td>Yemen</td>\n",
       "      <td>1691</td>\n",
       "      <td>483</td>\n",
       "      <td>833</td>\n",
       "      <td>375</td>\n",
       "      <td>10</td>\n",
       "      <td>4</td>\n",
       "      <td>36</td>\n",
       "      <td>28.56</td>\n",
       "      <td>49.26</td>\n",
       "      <td>57.98</td>\n",
       "      <td>1619</td>\n",
       "      <td>72</td>\n",
       "      <td>4.45</td>\n",
       "      <td>Eastern Mediterranean</td>\n",
       "    </tr>\n",
       "    <tr>\n",
       "      <th>185</th>\n",
       "      <td>Zambia</td>\n",
       "      <td>4552</td>\n",
       "      <td>140</td>\n",
       "      <td>2815</td>\n",
       "      <td>1597</td>\n",
       "      <td>71</td>\n",
       "      <td>1</td>\n",
       "      <td>465</td>\n",
       "      <td>3.08</td>\n",
       "      <td>61.84</td>\n",
       "      <td>4.97</td>\n",
       "      <td>3326</td>\n",
       "      <td>1226</td>\n",
       "      <td>36.86</td>\n",
       "      <td>Africa</td>\n",
       "    </tr>\n",
       "    <tr>\n",
       "      <th>186</th>\n",
       "      <td>Zimbabwe</td>\n",
       "      <td>2704</td>\n",
       "      <td>36</td>\n",
       "      <td>542</td>\n",
       "      <td>2126</td>\n",
       "      <td>192</td>\n",
       "      <td>2</td>\n",
       "      <td>24</td>\n",
       "      <td>1.33</td>\n",
       "      <td>20.04</td>\n",
       "      <td>6.64</td>\n",
       "      <td>1713</td>\n",
       "      <td>991</td>\n",
       "      <td>57.85</td>\n",
       "      <td>Africa</td>\n",
       "    </tr>\n",
       "  </tbody>\n",
       "</table>\n",
       "<p>187 rows × 15 columns</p>\n",
       "</div>"
      ],
      "text/plain": [
       "         Country/Region  Confirmed  Deaths  Recovered  Active  New cases  \\\n",
       "0           Afghanistan      36263    1269      25198    9796        106   \n",
       "1               Albania       4880     144       2745    1991        117   \n",
       "2               Algeria      27973    1163      18837    7973        616   \n",
       "3               Andorra        907      52        803      52         10   \n",
       "4                Angola        950      41        242     667         18   \n",
       "..                  ...        ...     ...        ...     ...        ...   \n",
       "182  West Bank and Gaza      10621      78       3752    6791        152   \n",
       "183      Western Sahara         10       1          8       1          0   \n",
       "184               Yemen       1691     483        833     375         10   \n",
       "185              Zambia       4552     140       2815    1597         71   \n",
       "186            Zimbabwe       2704      36        542    2126        192   \n",
       "\n",
       "     New deaths  New recovered  Deaths / 100 Cases  Recovered / 100 Cases  \\\n",
       "0            10             18                3.50                  69.49   \n",
       "1             6             63                2.95                  56.25   \n",
       "2             8            749                4.16                  67.34   \n",
       "3             0              0                5.73                  88.53   \n",
       "4             1              0                4.32                  25.47   \n",
       "..          ...            ...                 ...                    ...   \n",
       "182           2              0                0.73                  35.33   \n",
       "183           0              0               10.00                  80.00   \n",
       "184           4             36               28.56                  49.26   \n",
       "185           1            465                3.08                  61.84   \n",
       "186           2             24                1.33                  20.04   \n",
       "\n",
       "     Deaths / 100 Recovered  Confirmed last week  1 week change  \\\n",
       "0                      5.04                35526            737   \n",
       "1                      5.25                 4171            709   \n",
       "2                      6.17                23691           4282   \n",
       "3                      6.48                  884             23   \n",
       "4                     16.94                  749            201   \n",
       "..                      ...                  ...            ...   \n",
       "182                    2.08                 8916           1705   \n",
       "183                   12.50                   10              0   \n",
       "184                   57.98                 1619             72   \n",
       "185                    4.97                 3326           1226   \n",
       "186                    6.64                 1713            991   \n",
       "\n",
       "     1 week % increase             WHO Region  \n",
       "0                 2.07  Eastern Mediterranean  \n",
       "1                17.00                 Europe  \n",
       "2                18.07                 Africa  \n",
       "3                 2.60                 Europe  \n",
       "4                26.84                 Africa  \n",
       "..                 ...                    ...  \n",
       "182              19.12  Eastern Mediterranean  \n",
       "183               0.00                 Africa  \n",
       "184               4.45  Eastern Mediterranean  \n",
       "185              36.86                 Africa  \n",
       "186              57.85                 Africa  \n",
       "\n",
       "[187 rows x 15 columns]"
      ]
     },
     "execution_count": 50,
     "metadata": {},
     "output_type": "execute_result"
    }
   ],
   "source": [
    "# CSV into pandas dataframe\n",
    "df = pd.read_csv(r'C:\\Users\\caryk\\Downloads\\archive (2).zip')\n",
    "df"
   ]
  },
  {
   "cell_type": "code",
   "execution_count": 51,
   "id": "4786d9c9",
   "metadata": {},
   "outputs": [
    {
     "data": {
      "text/plain": [
       "(187, 15)"
      ]
     },
     "execution_count": 51,
     "metadata": {},
     "output_type": "execute_result"
    }
   ],
   "source": [
    "## Shape of our dataframe\n",
    "df.shape"
   ]
  },
  {
   "cell_type": "markdown",
   "id": "d0df9ce3",
   "metadata": {},
   "source": [
    "Lets find the correlation matrix for future uses. The correlation matrix is defined below, with X is a matrix with numerical values. Although small x seems to be a matrix, imagine we are subtracticing each column by the mean of each column. Thus each column is mean 0 in our X-x matrix."
   ]
  },
  {
   "cell_type": "markdown",
   "id": "987a71ca",
   "metadata": {},
   "source": [
    "$$\n",
    "\\boldsymbol{C} = \\frac{1}{n}(\\boldsymbol{X} - \\bar{\\boldsymbol{x}})^\\top (\\boldsymbol{X}-\\bar{\\boldsymbol{x}})\n",
    "$$"
   ]
  },
  {
   "cell_type": "markdown",
   "id": "7724fc88",
   "metadata": {},
   "source": [
    "Notice that the diagonal contains only one value, as Cov(I,I) is equal to the Var(I) which is 1 as we have standardized our matrix"
   ]
  },
  {
   "cell_type": "markdown",
   "id": "ad225ff2",
   "metadata": {},
   "source": [
    "**Step 1**\n",
    "\n",
    "**Clean data and get dataset in Matrix form**.Here we are working with country-wise COVID-19 data. Our goal is to analyze and visualize the relationships between our entries. Since PCA works with numerical data, lets drop all categorical data."
   ]
  },
  {
   "cell_type": "code",
   "execution_count": 53,
   "id": "65984a2a",
   "metadata": {},
   "outputs": [
    {
     "data": {
      "text/plain": [
       "(187, 15)"
      ]
     },
     "execution_count": 53,
     "metadata": {},
     "output_type": "execute_result"
    }
   ],
   "source": [
    "df.shape"
   ]
  },
  {
   "cell_type": "code",
   "execution_count": 54,
   "id": "abc5bf89",
   "metadata": {},
   "outputs": [],
   "source": [
    "## Drop Categorical/Redundent data\n",
    "df = df.drop(['Country/Region','WHO Region','Deaths / 100 Recovered'], axis = 1)\n",
    "## Drop"
   ]
  },
  {
   "cell_type": "code",
   "execution_count": 55,
   "id": "bf672e92",
   "metadata": {},
   "outputs": [
    {
     "data": {
      "text/plain": [
       "(187, 12)"
      ]
     },
     "execution_count": 55,
     "metadata": {},
     "output_type": "execute_result"
    }
   ],
   "source": [
    "##Drop rows with na values\n",
    "df.dropna()\n",
    "df.shape"
   ]
  },
  {
   "cell_type": "code",
   "execution_count": 56,
   "id": "42a694a6",
   "metadata": {},
   "outputs": [
    {
     "data": {
      "text/plain": [
       "array([[3.6263e+04, 1.2690e+03, 2.5198e+04, ..., 3.5526e+04, 7.3700e+02,\n",
       "        2.0700e+00],\n",
       "       [4.8800e+03, 1.4400e+02, 2.7450e+03, ..., 4.1710e+03, 7.0900e+02,\n",
       "        1.7000e+01],\n",
       "       [2.7973e+04, 1.1630e+03, 1.8837e+04, ..., 2.3691e+04, 4.2820e+03,\n",
       "        1.8070e+01],\n",
       "       ...,\n",
       "       [1.6910e+03, 4.8300e+02, 8.3300e+02, ..., 1.6190e+03, 7.2000e+01,\n",
       "        4.4500e+00],\n",
       "       [4.5520e+03, 1.4000e+02, 2.8150e+03, ..., 3.3260e+03, 1.2260e+03,\n",
       "        3.6860e+01],\n",
       "       [2.7040e+03, 3.6000e+01, 5.4200e+02, ..., 1.7130e+03, 9.9100e+02,\n",
       "        5.7850e+01]])"
      ]
     },
     "execution_count": 56,
     "metadata": {},
     "output_type": "execute_result"
    }
   ],
   "source": [
    "## DF to matrix\n",
    "dfmatrix = df.to_numpy()\n",
    "dfmatrix"
   ]
  },
  {
   "cell_type": "markdown",
   "id": "d34670eb",
   "metadata": {},
   "source": [
    "**Step 2**\n",
    "\n",
    "**Center/Standardize your matrix.** We want to do this in order to convert our data into the same units. This simply converting all our columns into mean 0 and 1 variance/SD vectors.We can do this in multiple way. Lets show this first show how to do it manually and next how to do it using scikit learn library."
   ]
  },
  {
   "cell_type": "code",
   "execution_count": 67,
   "id": "1febb131",
   "metadata": {},
   "outputs": [],
   "source": [
    "#Subtracted each column by their means\n",
    "subtractedbymean = df - np.mean(df)\n",
    "#Divided each column by their standard deviations\n",
    "standardized = subtractedbymean/np.std(subtractedbymean)"
   ]
  },
  {
   "cell_type": "markdown",
   "id": "0f4c5c39",
   "metadata": {},
   "source": [
    "Lets check if our Matrix is standardized by checking that the mean of each column is equal to 0, and the standard deviations are equal to 1."
   ]
  },
  {
   "cell_type": "code",
   "execution_count": 68,
   "id": "d1321736",
   "metadata": {},
   "outputs": [
    {
     "data": {
      "text/plain": [
       "Confirmed               -9.499234e-18\n",
       "Deaths                   5.937022e-18\n",
       "Recovered                2.374809e-17\n",
       "Active                   4.749617e-18\n",
       "New cases               -4.749617e-18\n",
       "New deaths               2.018587e-17\n",
       "New recovered           -1.424885e-17\n",
       "Deaths / 100 Cases       2.493549e-16\n",
       "Recovered / 100 Cases    2.707282e-16\n",
       "Confirmed last week      1.424885e-17\n",
       "1 week change            2.374809e-17\n",
       "1 week % increase        9.380494e-17\n",
       "dtype: float64"
      ]
     },
     "execution_count": 68,
     "metadata": {},
     "output_type": "execute_result"
    }
   ],
   "source": [
    "np.mean(standardized)"
   ]
  },
  {
   "cell_type": "code",
   "execution_count": 69,
   "id": "a9fe5d48",
   "metadata": {},
   "outputs": [
    {
     "data": {
      "text/plain": [
       "Confirmed                1.0\n",
       "Deaths                   1.0\n",
       "Recovered                1.0\n",
       "Active                   1.0\n",
       "New cases                1.0\n",
       "New deaths               1.0\n",
       "New recovered            1.0\n",
       "Deaths / 100 Cases       1.0\n",
       "Recovered / 100 Cases    1.0\n",
       "Confirmed last week      1.0\n",
       "1 week change            1.0\n",
       "1 week % increase        1.0\n",
       "dtype: float64"
      ]
     },
     "execution_count": 69,
     "metadata": {},
     "output_type": "execute_result"
    }
   ],
   "source": [
    "np.std(standardized)"
   ]
  },
  {
   "cell_type": "markdown",
   "id": "fd435d7f",
   "metadata": {},
   "source": [
    "**Nice!**"
   ]
  },
  {
   "cell_type": "markdown",
   "id": "67038a91",
   "metadata": {},
   "source": [
    "**Step 3**\n",
    "\n",
    "Calculate Covariance Matrix. The formula for the covariance matrix is defined below. \n",
    "$$\n",
    "\\boldsymbol{C}_{jk} = \\frac{1}{n}\\sum_{i=1}^n (x_{ij} - \\bar{x}_j)(x_{ik} - \\bar{x}_k).\n",
    "$$\n",
    "\n",
    "Although the formula above seems a bit complicated, we can break it down in terms of our dataset above. Our covariance matrix is \n",
    "12 x 12 matrix. Where the j,kth entry of the matrix is the pairwise covarariances between the jth and kth feature. Thus, this is also the same as the k,jth feature, meaning our matrix is symmetric. In terms of the formula, we are taking the sum of the products of the deviations for each observation, and averaging it.\n",
    "\n",
    "**However, since we have already standardized our matrix, the covariance matrix is simply the correlation matrix. Lets prove this.**"
   ]
  },
  {
   "cell_type": "code",
   "execution_count": 74,
   "id": "f54c6555",
   "metadata": {},
   "outputs": [
    {
     "data": {
      "text/plain": [
       "array([[ 1.        ,  0.93469843,  0.90637675,  0.92701827,  0.9097199 ,\n",
       "         0.87168272,  0.85925242,  0.06355041, -0.06481518,  0.99912716,\n",
       "         0.95470982, -0.01016071],\n",
       "       [ 0.93469843,  1.        ,  0.83209827,  0.87158592,  0.80697451,\n",
       "         0.81416116,  0.7651139 ,  0.25156536, -0.11452911,  0.93908218,\n",
       "         0.85532972, -0.03470762],\n",
       "       [ 0.90637675,  0.83209827,  1.        ,  0.68210265,  0.81894185,\n",
       "         0.82033828,  0.91920345,  0.04843819,  0.02660987,  0.89931204,\n",
       "         0.91001284, -0.01369704],\n",
       "       [ 0.92701827,  0.87158592,  0.68210265,  1.        ,  0.85119047,\n",
       "         0.78112277,  0.67388703,  0.05437971, -0.13261799,  0.9314586 ,\n",
       "         0.84764211, -0.00375199],\n",
       "       [ 0.9097199 ,  0.80697451,  0.81894185,  0.85119047,  1.        ,\n",
       "         0.93594658,  0.9147646 ,  0.02010425, -0.07866557,  0.89608352,\n",
       "         0.95999298,  0.03079057],\n",
       "       [ 0.87168272,  0.81416116,  0.82033828,  0.78112277,  0.93594658,\n",
       "         1.        ,  0.88923412,  0.06039885, -0.06279163,  0.86211769,\n",
       "         0.8949153 ,  0.02529301],\n",
       "       [ 0.85925242,  0.7651139 ,  0.91920345,  0.67388703,  0.9147646 ,\n",
       "         0.88923412,  1.        ,  0.01708991, -0.02429308,  0.83969205,\n",
       "         0.95432084,  0.03266216],\n",
       "       [ 0.06355041,  0.25156536,  0.04843819,  0.05437971,  0.02010425,\n",
       "         0.06039885,  0.01708991,  1.        , -0.16891982,  0.06989365,\n",
       "         0.01509499, -0.1345342 ],\n",
       "       [-0.06481518, -0.11452911,  0.02660987, -0.13261799, -0.07866557,\n",
       "        -0.06279163, -0.02429308, -0.16891982,  1.        , -0.06459953,\n",
       "        -0.06301271, -0.39425424],\n",
       "       [ 0.99912716,  0.93908218,  0.89931204,  0.9314586 ,  0.89608352,\n",
       "         0.86211769,  0.83969205,  0.06989365, -0.06459953,  1.        ,\n",
       "         0.94144767, -0.01524732],\n",
       "       [ 0.95470982,  0.85532972,  0.91001284,  0.84764211,  0.95999298,\n",
       "         0.8949153 ,  0.95432084,  0.01509499, -0.06301271,  0.94144767,\n",
       "         1.        ,  0.0265939 ],\n",
       "       [-0.01016071, -0.03470762, -0.01369704, -0.00375199,  0.03079057,\n",
       "         0.02529301,  0.03266216, -0.1345342 , -0.39425424, -0.01524732,\n",
       "         0.0265939 ,  1.        ]])"
      ]
     },
     "execution_count": 74,
     "metadata": {},
     "output_type": "execute_result"
    }
   ],
   "source": [
    "## We are taking the transpose of X and multiplying it by X. Since the mean of each column is 0, we don't need to worry about subtracting by the mean\n",
    "manualcomputation = 1/standardized.shape[0] * np.dot(standardized.T,standardized)\n"
   ]
  },
  {
   "cell_type": "markdown",
   "id": "e548fd4b",
   "metadata": {},
   "source": [
    "Lets compare this to pandas built in correlation method."
   ]
  },
  {
   "cell_type": "code",
   "execution_count": 77,
   "id": "986493b0",
   "metadata": {},
   "outputs": [
    {
     "data": {
      "text/plain": [
       "Text(0.5, 1.0, 'Correlation between different fearures')"
      ]
     },
     "execution_count": 77,
     "metadata": {},
     "output_type": "execute_result"
    },
    {
     "data": {
      "image/png": "[encoded data removed]",
      "text/plain": [
       "<Figure size 720x720 with 2 Axes>"
      ]
     },
     "metadata": {
      "needs_background": "light"
     },
     "output_type": "display_data"
    }
   ],
   "source": [
    "## Correlation matrix\n",
    "\n",
    "correlation = df.corr()\n",
    "plt.figure(figsize=(10,10))\n",
    "\n",
    "## Used seaborn to better visualize our correlation coefficient\n",
    "sns.heatmap(correlation, vmax=1, square=True,annot=True,cmap='cubehelix')\n",
    "\n",
    "plt.title('Correlation between different fearures')"
   ]
  },
  {
   "cell_type": "markdown",
   "id": "a20bf0e5",
   "metadata": {},
   "source": [
    "**You can see that these two correlation matrices are the same!** In general,to find the correlation matrix without a standardized matrix, we can first find the covariance matrix and divide by the product of the pairwise standard deviations."
   ]
  },
  {
   "cell_type": "markdown",
   "id": "01375573",
   "metadata": {},
   "source": [
    "**Step 4**\n",
    "\n",
    "**Eigenvalue decomposition on correlation matrix.** Next, we apply an eigenvalue decomposition on our correlation matrix\n",
    "\n"
   ]
  },
  {
   "cell_type": "code",
   "execution_count": 105,
   "id": "0d075fa5",
   "metadata": {},
   "outputs": [
    {
     "name": "stdout",
     "output_type": "stream",
     "text": [
      "Eigenvectors \n",
      "[[-3.48226820e-01+0.00000000e+00j  1.56171150e-02+0.00000000e+00j\n",
      "  -4.57841916e-03+0.00000000e+00j -9.53288427e-02+0.00000000e+00j\n",
      "  -1.70040769e-01+0.00000000e+00j -1.65070207e-01+0.00000000e+00j\n",
      "   7.56348206e-02+0.00000000e+00j  2.20971508e-01+0.00000000e+00j\n",
      "  -3.52266478e-02+0.00000000e+00j  6.41712994e-02+0.00000000e+00j\n",
      "  -3.57686992e-01-4.34025447e-01j -3.57686992e-01+4.34025447e-01j]\n",
      " [-3.26331871e-01+0.00000000e+00j -1.33527943e-02+0.00000000e+00j\n",
      "  -2.01411127e-01+0.00000000e+00j -6.60884412e-02+0.00000000e+00j\n",
      "  -2.71004267e-01+0.00000000e+00j -2.69160835e-01+0.00000000e+00j\n",
      "  -4.36944426e-01+0.00000000e+00j -6.88096760e-01+0.00000000e+00j\n",
      "   1.84808301e-01+0.00000000e+00j -5.09833185e-02+0.00000000e+00j\n",
      "  -1.54518889e-02+1.59652020e-02j -1.54518889e-02-1.59652020e-02j]\n",
      " [-3.24029324e-01+0.00000000e+00j  7.80660732e-02+0.00000000e+00j\n",
      "   5.07900442e-02+0.00000000e+00j  2.42640643e-01+0.00000000e+00j\n",
      "   2.06143341e-01+0.00000000e+00j -5.74715320e-01+0.00000000e+00j\n",
      "  -5.94466270e-02+0.00000000e+00j  3.87215034e-01+0.00000000e+00j\n",
      "   2.26212343e-01+0.00000000e+00j -6.17678808e-02+0.00000000e+00j\n",
      "  -2.08423139e-01+2.15346973e-01j -2.08423139e-01-2.15346973e-01j]\n",
      " [-3.15263747e-01+0.00000000e+00j -4.06543599e-02+0.00000000e+00j\n",
      "  -4.01955491e-02+0.00000000e+00j -3.83248153e-01+0.00000000e+00j\n",
      "  -4.71412704e-01+0.00000000e+00j  2.33561324e-01+0.00000000e+00j\n",
      "   2.17784820e-01+0.00000000e+00j  9.73201853e-02+0.00000000e+00j\n",
      "  -2.77189358e-01+0.00000000e+00j  1.73745408e-01+0.00000000e+00j\n",
      "  -2.33779557e-01+2.41545733e-01j -2.33779557e-01-2.41545733e-01j]\n",
      " [-3.36946028e-01+0.00000000e+00j -1.28280754e-02+0.00000000e+00j\n",
      "   7.48648079e-02+0.00000000e+00j  3.74615566e-03+0.00000000e+00j\n",
      "   1.37484324e-01+0.00000000e+00j  4.75466704e-01+0.00000000e+00j\n",
      "   2.27779984e-01+0.00000000e+00j -5.08617704e-02+0.00000000e+00j\n",
      "   7.56465921e-01+0.00000000e+00j  9.48798409e-02+0.00000000e+00j\n",
      "   1.97525586e-15-7.86074355e-15j  1.97525586e-15+7.86074355e-15j]\n",
      " [-3.27584120e-01+0.00000000e+00j -3.13524659e-03+0.00000000e+00j\n",
      "   3.83624599e-02+0.00000000e+00j  9.61650902e-02+0.00000000e+00j\n",
      "   1.88031831e-01+0.00000000e+00j  4.69446664e-01+0.00000000e+00j\n",
      "  -6.91779287e-01+0.00000000e+00j  2.64698700e-01+0.00000000e+00j\n",
      "  -2.34523214e-01+0.00000000e+00j -1.50326815e-01+0.00000000e+00j\n",
      "   3.34223690e-15+1.08300317e-14j  3.34223690e-15-1.08300317e-14j]\n",
      " [-3.25211235e-01+0.00000000e+00j  2.67130745e-02+0.00000000e+00j\n",
      "   1.07525180e-01+0.00000000e+00j  2.72949390e-01+0.00000000e+00j\n",
      "   4.36824114e-01+0.00000000e+00j  1.78331209e-03+0.00000000e+00j\n",
      "   1.96498240e-01+0.00000000e+00j -3.46942419e-01+0.00000000e+00j\n",
      "  -3.88837313e-01+0.00000000e+00j  5.53595057e-01+0.00000000e+00j\n",
      "  -3.70777095e-14-4.24605413e-14j -3.70777095e-14+4.24605413e-14j]\n",
      " [-2.89403303e-02+0.00000000e+00j -7.26314339e-02+0.00000000e+00j\n",
      "  -8.77939209e-01+0.00000000e+00j  4.11878651e-01+0.00000000e+00j\n",
      "  -6.45844230e-02+0.00000000e+00j  1.25726905e-01+0.00000000e+00j\n",
      "   1.43224594e-01+0.00000000e+00j  1.09234487e-01+0.00000000e+00j\n",
      "  -3.22753963e-02+0.00000000e+00j -5.42499163e-04+0.00000000e+00j\n",
      "   5.24195118e-16+3.97128797e-16j  5.24195118e-16-3.97128797e-16j]\n",
      " [ 2.82713435e-02+0.00000000e+00j  7.19799764e-01+0.00000000e+00j\n",
      "   2.16247704e-01+0.00000000e+00j  4.86157697e-01+0.00000000e+00j\n",
      "  -4.25077561e-01+0.00000000e+00j  1.24584229e-01+0.00000000e+00j\n",
      "   2.17369871e-02+0.00000000e+00j -3.48270387e-02+0.00000000e+00j\n",
      "  -8.87295952e-03+0.00000000e+00j -5.86827357e-04+0.00000000e+00j\n",
      "   6.49010535e-17+2.01676086e-16j  6.49010535e-17-2.01676086e-16j]\n",
      " [-3.45983275e-01+0.00000000e+00j  1.70465043e-02+0.00000000e+00j\n",
      "  -1.60984453e-02+0.00000000e+00j -1.14217566e-01+0.00000000e+00j\n",
      "  -2.10173739e-01+0.00000000e+00j -1.90762722e-01+0.00000000e+00j\n",
      "   2.92991707e-02+0.00000000e+00j  2.76840977e-01+0.00000000e+00j\n",
      "  -6.39986404e-03+0.00000000e+00j  1.80429490e-01+0.00000000e+00j\n",
      "   6.86360897e-01+0.00000000e+00j  6.86360897e-01-0.00000000e+00j]\n",
      " [-3.46271098e-01+0.00000000e+00j  4.63134904e-03+0.00000000e+00j\n",
      "   7.77131844e-02+0.00000000e+00j  4.41234269e-02+0.00000000e+00j\n",
      "   1.24579973e-01+0.00000000e+00j  2.64368582e-02+0.00000000e+00j\n",
      "   4.01782419e-01+0.00000000e+00j -1.88361750e-01+0.00000000e+00j\n",
      "  -2.38741984e-01+0.00000000e+00j -7.67227312e-01+0.00000000e+00j\n",
      "   9.63600045e-02+6.40487881e-14j  9.63600045e-02-6.40487881e-14j]\n",
      " [-2.84908235e-03+0.00000000e+00j -6.83552255e-01+0.00000000e+00j\n",
      "   3.35768344e-01+0.00000000e+00j  5.25397102e-01+0.00000000e+00j\n",
      "  -3.78535789e-01+0.00000000e+00j  2.42060974e-02+0.00000000e+00j\n",
      "   8.22302187e-03+0.00000000e+00j  4.53416318e-04+0.00000000e+00j\n",
      "   1.89821174e-03+0.00000000e+00j  4.35850639e-03+0.00000000e+00j\n",
      "  -1.89937921e-16-2.74209420e-16j -1.89937921e-16+2.74209420e-16j]]\n",
      "\n",
      "Eigenvalues \n",
      "[ 8.01380954e+00+0.00000000e+00j  1.40137853e+00+0.00000000e+00j\n",
      "  1.14429002e+00+0.00000000e+00j  5.59710287e-01+0.00000000e+00j\n",
      "  4.29035074e-01+0.00000000e+00j  2.63237185e-01+0.00000000e+00j\n",
      "  1.15651738e-01+0.00000000e+00j  5.11567328e-02+0.00000000e+00j\n",
      "  1.69938429e-02+0.00000000e+00j  4.73704648e-03+0.00000000e+00j\n",
      " -9.30627403e-17+6.13541153e-17j -9.30627403e-17-6.13541153e-17j]\n"
     ]
    }
   ],
   "source": [
    "eigenvals, eigenvecs = np.linalg.eig(correlation)\n",
    "print('Eigenvectors \\n%s' %eigenvecs)\n",
    "print('\\nEigenvalues \\n%s' %eigenvals)"
   ]
  },
  {
   "cell_type": "code",
   "execution_count": 106,
   "id": "9c1f8d89",
   "metadata": {},
   "outputs": [],
   "source": [
    "#Sorting by eigenvalues by putting them eigenvalue/eigenvector pairs into tuples\n",
    "\n",
    "eigenpair = [(np.abs(eigenvals[i]), eigenvecs[:,i])for i in np.arange(len(eigenvals))]\n",
    "\n",
    "#Actual Sorting\n",
    "\n",
    "eigenpair.sort(key=lambda x: x[0], reverse=True)\n",
    "\n",
    "\n",
    "\n"
   ]
  },
  {
   "cell_type": "code",
   "execution_count": 110,
   "id": "9f588df8",
   "metadata": {},
   "outputs": [
    {
     "data": {
      "image/png": "[encoded data removed]",
      "text/plain": [
       "<Figure size 432x288 with 1 Axes>"
      ]
     },
     "metadata": {
      "needs_background": "light"
     },
     "output_type": "display_data"
    }
   ],
   "source": [
    "# Retrieve my eigenvals and eigenvectors in sorted form\n",
    "eigenvals = [eigenpair[i][0] for i in np.arange(len(eigenpair))]\n",
    "eigenvects = [[eigenpair[i][1] for i in np.arange(len(eigenpair))]]\n",
    "\n",
    "\n",
    "# Create a scree plot to determine\n",
    "plt.scatter(range(1,len(eigenvals)+1), eigenvals/np.sum(eigenvals))\n",
    "plt.xlabel('dimension', fontsize=12)\n",
    "plt.ylabel('prop. of variance explained', fontsize=12)\n",
    "plt.title('scree plot', fontsize=12)\n",
    "plt.show()\n"
   ]
  },
  {
   "cell_type": "markdown",
   "id": "bf9e46a1",
   "metadata": {},
   "source": [
    "As you can see, a majority of the captured variance comes from the first few dimensions, with the first 4 capturing more than 90 percent of the variance."
   ]
  },
  {
   "cell_type": "markdown",
   "id": "7f0017b1",
   "metadata": {},
   "source": [
    "**Step 5**\n",
    "\n",
    "\n",
    "**Choose the number of principle components**. For visualization purposes, we choose the first two principle components.\n",
    "\n",
    "\n",
    "\n",
    "\n"
   ]
  },
  {
   "cell_type": "code",
   "execution_count": 111,
   "id": "a3408d4b",
   "metadata": {},
   "outputs": [
    {
     "data": {
      "text/html": [
       "<div>\n",
       "<style scoped>\n",
       "    .dataframe tbody tr th:only-of-type {\n",
       "        vertical-align: middle;\n",
       "    }\n",
       "\n",
       "    .dataframe tbody tr th {\n",
       "        vertical-align: top;\n",
       "    }\n",
       "\n",
       "    .dataframe thead th {\n",
       "        text-align: right;\n",
       "    }\n",
       "</style>\n",
       "<table border=\"1\" class=\"dataframe\">\n",
       "  <thead>\n",
       "    <tr style=\"text-align: right;\">\n",
       "      <th></th>\n",
       "      <th>Confirmed</th>\n",
       "      <th>Deaths</th>\n",
       "      <th>Recovered</th>\n",
       "      <th>Active</th>\n",
       "      <th>New cases</th>\n",
       "      <th>New deaths</th>\n",
       "      <th>New recovered</th>\n",
       "      <th>Deaths / 100 Cases</th>\n",
       "      <th>Recovered / 100 Cases</th>\n",
       "      <th>Confirmed last week</th>\n",
       "      <th>1 week change</th>\n",
       "      <th>1 week % increase</th>\n",
       "    </tr>\n",
       "  </thead>\n",
       "  <tbody>\n",
       "    <tr>\n",
       "      <th>0</th>\n",
       "      <td>36263</td>\n",
       "      <td>1269</td>\n",
       "      <td>25198</td>\n",
       "      <td>9796</td>\n",
       "      <td>106</td>\n",
       "      <td>10</td>\n",
       "      <td>18</td>\n",
       "      <td>3.50</td>\n",
       "      <td>69.49</td>\n",
       "      <td>35526</td>\n",
       "      <td>737</td>\n",
       "      <td>2.07</td>\n",
       "    </tr>\n",
       "    <tr>\n",
       "      <th>1</th>\n",
       "      <td>4880</td>\n",
       "      <td>144</td>\n",
       "      <td>2745</td>\n",
       "      <td>1991</td>\n",
       "      <td>117</td>\n",
       "      <td>6</td>\n",
       "      <td>63</td>\n",
       "      <td>2.95</td>\n",
       "      <td>56.25</td>\n",
       "      <td>4171</td>\n",
       "      <td>709</td>\n",
       "      <td>17.00</td>\n",
       "    </tr>\n",
       "    <tr>\n",
       "      <th>2</th>\n",
       "      <td>27973</td>\n",
       "      <td>1163</td>\n",
       "      <td>18837</td>\n",
       "      <td>7973</td>\n",
       "      <td>616</td>\n",
       "      <td>8</td>\n",
       "      <td>749</td>\n",
       "      <td>4.16</td>\n",
       "      <td>67.34</td>\n",
       "      <td>23691</td>\n",
       "      <td>4282</td>\n",
       "      <td>18.07</td>\n",
       "    </tr>\n",
       "    <tr>\n",
       "      <th>3</th>\n",
       "      <td>907</td>\n",
       "      <td>52</td>\n",
       "      <td>803</td>\n",
       "      <td>52</td>\n",
       "      <td>10</td>\n",
       "      <td>0</td>\n",
       "      <td>0</td>\n",
       "      <td>5.73</td>\n",
       "      <td>88.53</td>\n",
       "      <td>884</td>\n",
       "      <td>23</td>\n",
       "      <td>2.60</td>\n",
       "    </tr>\n",
       "    <tr>\n",
       "      <th>4</th>\n",
       "      <td>950</td>\n",
       "      <td>41</td>\n",
       "      <td>242</td>\n",
       "      <td>667</td>\n",
       "      <td>18</td>\n",
       "      <td>1</td>\n",
       "      <td>0</td>\n",
       "      <td>4.32</td>\n",
       "      <td>25.47</td>\n",
       "      <td>749</td>\n",
       "      <td>201</td>\n",
       "      <td>26.84</td>\n",
       "    </tr>\n",
       "    <tr>\n",
       "      <th>...</th>\n",
       "      <td>...</td>\n",
       "      <td>...</td>\n",
       "      <td>...</td>\n",
       "      <td>...</td>\n",
       "      <td>...</td>\n",
       "      <td>...</td>\n",
       "      <td>...</td>\n",
       "      <td>...</td>\n",
       "      <td>...</td>\n",
       "      <td>...</td>\n",
       "      <td>...</td>\n",
       "      <td>...</td>\n",
       "    </tr>\n",
       "    <tr>\n",
       "      <th>182</th>\n",
       "      <td>10621</td>\n",
       "      <td>78</td>\n",
       "      <td>3752</td>\n",
       "      <td>6791</td>\n",
       "      <td>152</td>\n",
       "      <td>2</td>\n",
       "      <td>0</td>\n",
       "      <td>0.73</td>\n",
       "      <td>35.33</td>\n",
       "      <td>8916</td>\n",
       "      <td>1705</td>\n",
       "      <td>19.12</td>\n",
       "    </tr>\n",
       "    <tr>\n",
       "      <th>183</th>\n",
       "      <td>10</td>\n",
       "      <td>1</td>\n",
       "      <td>8</td>\n",
       "      <td>1</td>\n",
       "      <td>0</td>\n",
       "      <td>0</td>\n",
       "      <td>0</td>\n",
       "      <td>10.00</td>\n",
       "      <td>80.00</td>\n",
       "      <td>10</td>\n",
       "      <td>0</td>\n",
       "      <td>0.00</td>\n",
       "    </tr>\n",
       "    <tr>\n",
       "      <th>184</th>\n",
       "      <td>1691</td>\n",
       "      <td>483</td>\n",
       "      <td>833</td>\n",
       "      <td>375</td>\n",
       "      <td>10</td>\n",
       "      <td>4</td>\n",
       "      <td>36</td>\n",
       "      <td>28.56</td>\n",
       "      <td>49.26</td>\n",
       "      <td>1619</td>\n",
       "      <td>72</td>\n",
       "      <td>4.45</td>\n",
       "    </tr>\n",
       "    <tr>\n",
       "      <th>185</th>\n",
       "      <td>4552</td>\n",
       "      <td>140</td>\n",
       "      <td>2815</td>\n",
       "      <td>1597</td>\n",
       "      <td>71</td>\n",
       "      <td>1</td>\n",
       "      <td>465</td>\n",
       "      <td>3.08</td>\n",
       "      <td>61.84</td>\n",
       "      <td>3326</td>\n",
       "      <td>1226</td>\n",
       "      <td>36.86</td>\n",
       "    </tr>\n",
       "    <tr>\n",
       "      <th>186</th>\n",
       "      <td>2704</td>\n",
       "      <td>36</td>\n",
       "      <td>542</td>\n",
       "      <td>2126</td>\n",
       "      <td>192</td>\n",
       "      <td>2</td>\n",
       "      <td>24</td>\n",
       "      <td>1.33</td>\n",
       "      <td>20.04</td>\n",
       "      <td>1713</td>\n",
       "      <td>991</td>\n",
       "      <td>57.85</td>\n",
       "    </tr>\n",
       "  </tbody>\n",
       "</table>\n",
       "<p>187 rows × 12 columns</p>\n",
       "</div>"
      ],
      "text/plain": [
       "     Confirmed  Deaths  Recovered  Active  New cases  New deaths  \\\n",
       "0        36263    1269      25198    9796        106          10   \n",
       "1         4880     144       2745    1991        117           6   \n",
       "2        27973    1163      18837    7973        616           8   \n",
       "3          907      52        803      52         10           0   \n",
       "4          950      41        242     667         18           1   \n",
       "..         ...     ...        ...     ...        ...         ...   \n",
       "182      10621      78       3752    6791        152           2   \n",
       "183         10       1          8       1          0           0   \n",
       "184       1691     483        833     375         10           4   \n",
       "185       4552     140       2815    1597         71           1   \n",
       "186       2704      36        542    2126        192           2   \n",
       "\n",
       "     New recovered  Deaths / 100 Cases  Recovered / 100 Cases  \\\n",
       "0               18                3.50                  69.49   \n",
       "1               63                2.95                  56.25   \n",
       "2              749                4.16                  67.34   \n",
       "3                0                5.73                  88.53   \n",
       "4                0                4.32                  25.47   \n",
       "..             ...                 ...                    ...   \n",
       "182              0                0.73                  35.33   \n",
       "183              0               10.00                  80.00   \n",
       "184             36               28.56                  49.26   \n",
       "185            465                3.08                  61.84   \n",
       "186             24                1.33                  20.04   \n",
       "\n",
       "     Confirmed last week  1 week change  1 week % increase  \n",
       "0                  35526            737               2.07  \n",
       "1                   4171            709              17.00  \n",
       "2                  23691           4282              18.07  \n",
       "3                    884             23               2.60  \n",
       "4                    749            201              26.84  \n",
       "..                   ...            ...                ...  \n",
       "182                 8916           1705              19.12  \n",
       "183                   10              0               0.00  \n",
       "184                 1619             72               4.45  \n",
       "185                 3326           1226              36.86  \n",
       "186                 1713            991              57.85  \n",
       "\n",
       "[187 rows x 12 columns]"
      ]
     },
     "execution_count": 111,
     "metadata": {},
     "output_type": "execute_result"
    }
   ],
   "source": [
    "df"
   ]
  },
  {
   "cell_type": "code",
   "execution_count": 117,
   "id": "2d94c14b",
   "metadata": {},
   "outputs": [
    {
     "data": {
      "text/plain": [
       "<matplotlib.collections.PathCollection at 0x1417f1c21a0>"
      ]
     },
     "execution_count": 117,
     "metadata": {},
     "output_type": "execute_result"
    },
    {
     "data": {
      "image/png": "[encoded data removed]",
      "text/plain": [
       "<Figure size 432x288 with 1 Axes>"
      ]
     },
     "metadata": {
      "needs_background": "light"
     },
     "output_type": "display_data"
    }
   ],
   "source": [
    "#compute pcs by projecting the data onto the first three eigenvectors\n",
    "\n",
    "z1 = np.dot(df, eigenvecs[:,0])\n",
    "z2 = np.dot(df, eigenvecs[:,1])\n",
    "\n",
    "plt.scatter(z1,z2)"
   ]
  },
  {
   "cell_type": "code",
   "execution_count": null,
   "id": "f4b11603",
   "metadata": {},
   "outputs": [],
   "source": []
  }
 ],
 "metadata": {
  "kernelspec": {
   "display_name": "Python 3 (ipykernel)",
   "language": "python",
   "name": "python3"
  },
  "language_info": {
   "codemirror_mode": {
    "name": "ipython",
    "version": 3
   },
   "file_extension": ".py",
   "mimetype": "text/x-python",
   "name": "python",
   "nbconvert_exporter": "python",
   "pygments_lexer": "ipython3",
   "version": "3.10.1"
  }
 },
 "nbformat": 4,
 "nbformat_minor": 5
}
